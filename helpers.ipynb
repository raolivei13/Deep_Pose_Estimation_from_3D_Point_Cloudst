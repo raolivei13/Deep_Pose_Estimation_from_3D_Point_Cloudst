{
 "cells": [
  {
   "cell_type": "code",
   "execution_count": 1,
   "metadata": {},
   "outputs": [],
   "source": [
    "import os\n",
    "import scipy.io as sio\n",
    "import numpy as np\n",
    "import open3d as o3d\n",
    "\n",
    "\n",
    "def read_canonical_model(model_name):\n",
    "  '''\n",
    "  Read canonical model from .mat file\n",
    "  model_name: str, 'drill' or 'liq_container'\n",
    "  return: numpy array, (N, 3)\n",
    "  '''\n",
    "\n",
    "  current_directory = os.path.dirname(__file__)\n",
    "  model_fname = os.path.join(current_directory, 'data', model_name, 'model.mat')\n",
    "  model = sio.loadmat(model_fname)\n",
    "\n",
    "  cano_pc = model['Mdata'].T / 1000.0 # convert to meter\n",
    "\n",
    "  return cano_pc\n",
    "\n",
    "\n",
    "def load_pc(model_name, id):\n",
    "  '''\n",
    "  Load point cloud from .npy file\n",
    "  model_name: str, 'drill' or 'liq_container'\n",
    "  id: int, point cloud id\n",
    "  return: numpy array, (N, 3)\n",
    "  '''\n",
    "  current_directory = os.path.dirname(__file__)\n",
    "  pc_fname = os.path.join(current_directory, 'data', model_name, '%d.npy' % id)\n",
    "  pc = np.load(pc_fname)\n",
    "\n",
    "  return pc\n",
    "\n",
    "\n",
    "def visualize_icp_result(source_pc, target_pc, pose):\n",
    "  '''\n",
    "  Visualize the result of ICP\n",
    "  source_pc: numpy array, (N, 3)\n",
    "  target_pc: numpy array, (N, 3)\n",
    "  pose: SE(4) numpy array, (4, 4)\n",
    "  '''\n",
    "  source_pcd = o3d.geometry.PointCloud()\n",
    "  source_pcd.points = o3d.utility.Vector3dVector(source_pc.reshape(-1, 3))\n",
    "  source_pcd.paint_uniform_color([0, 0, 1])\n",
    "\n",
    "  target_pcd = o3d.geometry.PointCloud()\n",
    "  target_pcd.points = o3d.utility.Vector3dVector(target_pc.reshape(-1, 3))\n",
    "  target_pcd.paint_uniform_color([1, 0, 0])\n",
    "\n",
    "  source_pcd.transform(pose)\n",
    "  #target_pcd.transform(np.linalg.inv(pose))\n",
    "\n",
    "  o3d.visualization.draw_geometries([source_pcd, target_pcd])"
   ]
  }
 ],
 "metadata": {
  "kernelspec": {
   "display_name": "Python 3",
   "language": "python",
   "name": "python3"
  },
  "language_info": {
   "codemirror_mode": {
    "name": "ipython",
    "version": 3
   },
   "file_extension": ".py",
   "mimetype": "text/x-python",
   "name": "python",
   "nbconvert_exporter": "python",
   "pygments_lexer": "ipython3",
   "version": "3.8.5"
  }
 },
 "nbformat": 4,
 "nbformat_minor": 4
}
